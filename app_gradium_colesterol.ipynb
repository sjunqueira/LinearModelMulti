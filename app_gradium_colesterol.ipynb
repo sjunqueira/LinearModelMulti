{
 "cells": [
  {
   "cell_type": "code",
   "execution_count": 1,
   "metadata": {},
   "outputs": [
    {
     "name": "stderr",
     "output_type": "stream",
     "text": [
      "c:\\Users\\Usuário\\Desktop\\Data\\EDA\\LinearModelM\\myenv\\Lib\\site-packages\\tqdm\\auto.py:21: TqdmWarning: IProgress not found. Please update jupyter and ipywidgets. See https://ipywidgets.readthedocs.io/en/stable/user_install.html\n",
      "  from .autonotebook import tqdm as notebook_tqdm\n"
     ]
    }
   ],
   "source": [
    "import gradio as gr\n",
    "import joblib\n",
    "import pandas as pd"
   ]
  },
  {
   "cell_type": "code",
   "execution_count": 2,
   "metadata": {},
   "outputs": [],
   "source": [
    "modelo = joblib.load('./modelo_colesterol.pkl')"
   ]
  },
  {
   "cell_type": "code",
   "execution_count": 3,
   "metadata": {},
   "outputs": [],
   "source": [
    "def predict(grupo_sanguineo, fumante, nivel_atividade, idade, peso, altura): \n",
    "    _fumante = 'Sim' if fumante else 'Não'\n",
    "    predicao_individual = {\n",
    "        'grupo_sanguineo': [grupo_sanguineo],\n",
    "        'fumante': [_fumante],\n",
    "        'nivel_atividade': [nivel_atividade],\n",
    "        'idade': [idade],\n",
    "        'peso': [peso],\n",
    "        'altura': [altura]\n",
    "    }\n",
    "\n",
    "    predict_df = pd.DataFrame(predicao_individual, index=[1])\n",
    "    predict_colesterol = modelo.predict(predict_df)\n",
    "\n",
    "    return predict_colesterol[0]"
   ]
  },
  {
   "cell_type": "code",
   "execution_count": 4,
   "metadata": {},
   "outputs": [],
   "source": [
    "demo = gr.Interface(\n",
    "    fn=predict,\n",
    "    inputs=[\n",
    "        gr.Radio(['A', 'B', 'O', 'AB'], label='Grupo Sanguíneo'),\n",
    "        gr.Checkbox(label='Fumante'),\n",
    "        gr.Radio(['Baixo', 'Moderado', 'Alto'], label='Nível de Atividade'),\n",
    "        gr.Slider(20, 90, step=1, label='Idade'),\n",
    "        gr.Slider(40, 160, step=0.1, label='Peso'),\n",
    "        gr.Slider(120, 200, step=1, label='Altura')\n",
    "    ],\n",
    "    outputs=['number']\n",
    "    \n",
    ")"
   ]
  },
  {
   "cell_type": "code",
   "execution_count": 7,
   "metadata": {},
   "outputs": [
    {
     "name": "stdout",
     "output_type": "stream",
     "text": [
      "Rerunning server... use `close()` to stop if you need to change `launch()` parameters.\n",
      "----\n",
      "Running on public URL: https://89122915bd9d74dbaf.gradio.live\n",
      "\n",
      "This share link expires in 72 hours. For free permanent hosting and GPU upgrades, run `gradio deploy` from Terminal to deploy to Spaces (https://huggingface.co/spaces)\n"
     ]
    },
    {
     "data": {
      "text/html": [
       "<div><iframe src=\"https://89122915bd9d74dbaf.gradio.live\" width=\"100%\" height=\"500\" allow=\"autoplay; camera; microphone; clipboard-read; clipboard-write;\" frameborder=\"0\" allowfullscreen></iframe></div>"
      ],
      "text/plain": [
       "<IPython.core.display.HTML object>"
      ]
     },
     "metadata": {},
     "output_type": "display_data"
    },
    {
     "data": {
      "text/plain": []
     },
     "execution_count": 7,
     "metadata": {},
     "output_type": "execute_result"
    }
   ],
   "source": [
    "demo.launch(share=True)"
   ]
  }
 ],
 "metadata": {
  "kernelspec": {
   "display_name": "myenv",
   "language": "python",
   "name": "python3"
  },
  "language_info": {
   "codemirror_mode": {
    "name": "ipython",
    "version": 3
   },
   "file_extension": ".py",
   "mimetype": "text/x-python",
   "name": "python",
   "nbconvert_exporter": "python",
   "pygments_lexer": "ipython3",
   "version": "3.12.4"
  }
 },
 "nbformat": 4,
 "nbformat_minor": 2
}
